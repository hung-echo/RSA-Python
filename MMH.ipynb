{
 "cells": [
  {
   "attachments": {},
   "cell_type": "markdown",
   "metadata": {},
   "source": [
    "## RSA Algorithm when Implementation in Python"
   ]
  },
  {
   "attachments": {},
   "cell_type": "markdown",
   "metadata": {},
   "source": [
    "* NOTE: The pow(number, power, modulus) method takes three parameters:\n",
    "- number: the base value that is raised to a certain power\n",
    "- power: the exponent value that raises number\n",
    "- modulus: (optional) divides the result of number paused to a power and finds the remainder: (number^power) % modulus\n",
    "\n",
    "Ex: \n",
    "\n",
    "    C = M^e mod n <=> pow(M, e, n)\n",
    "    M = C^d mod n <=> pow(M, c, d)"
   ]
  },
  {
   "attachments": {},
   "cell_type": "markdown",
   "metadata": {},
   "source": [
    "-- Mã hoá và giải mã ký tự"
   ]
  },
  {
   "cell_type": "code",
   "execution_count": 6,
   "metadata": {},
   "outputs": [
    {
     "name": "stdout",
     "output_type": "stream",
     "text": [
      "n = 17399\n",
      "phi =  17136\n",
      "\n",
      "e = 11\n",
      "d = 9347.0\n",
      "Public key: (11, 17399)\n",
      "Private key: (9347.0, 17399)\n",
      "\n",
      "Original message - message_ascii: wolf <=> [119, 111, 108, 102]\n",
      "\n",
      "Encrypted message: [17240, 13204, 8529, 6355] <=> 䍘㎔⅑ᣓ\n",
      "\n",
      "Decrypted message: 䍘㎔⅑ᣓ => wolf\n"
     ]
    }
   ],
   "source": [
    "import math\n",
    " \n",
    "# Buoc 1: \n",
    "# Chọn 2 số nguyên tố, số nguyên tố càng lớn thì độ bảo mật càng cao\n",
    "# Nhưng đổi lại tính toán phức tạp và dò tìm k khá lâu nếu viết code bằng phương pháp thủ công\n",
    "p = 127\n",
    "q = 137\n",
    " \n",
    "# Buoc 2\n",
    "n = p*q\n",
    "print(\"n =\", n)\n",
    "phi = (p-1)*(q-1)\n",
    "print(\"phi = \", phi)\n",
    "print()\n",
    "#Buoc 3: chon so nguyen e sao cho gcd(e,phi) = 1\n",
    "# Nếu gcd chưa bằng 1 thì e tăng thêm 1 đơn vị cho đến khi gcd(e,phi) = 1\n",
    "e = 7 # e cho số tự nhiên ngẫu nhiên  \n",
    "while(e<phi):\n",
    "    if (math.gcd(e, phi) == 1):\n",
    "        break\n",
    "    else:\n",
    "        e += 1\n",
    "print(\"e =\", e)\n",
    "\n",
    "# Bước 4: Chọn khoá k và tính d sao cho d là số nguyên dương\n",
    "k = 6\n",
    "d = ((k*phi)+1)/e\n",
    "print(\"d =\", d)\n",
    "print(f'Public key: {e, n}')\n",
    "print(f'Private key: {d, n}')\n",
    "print()\n",
    "# plain text\n",
    "msg = 'wolf'\n",
    "msg_2_ascii =[ord(c) for c in msg]\n",
    "print(f'Original message - message_ascii: {msg} <=> {msg_2_ascii}')\n",
    "print()\n",
    "# Encryption\n",
    "def encrypt(m, e, n):\n",
    "    C = pow(m, e, n)\n",
    "    return C\n",
    "\n",
    "# Decryption\n",
    "def decrypt(c, d, n):\n",
    "    M = pow(c, d, n)\n",
    "    return M\n",
    "\n",
    "\n",
    "# Chuyển đổi ký tự sang mã ascii\n",
    "encrypted_message1 = [encrypt(m, e, n) for m in msg_2_ascii]\n",
    "encrypted_message2 = ''.join([chr(encrypt(m, e, n)) for m in msg_2_ascii])\n",
    "print(f\"Encrypted message: {encrypted_message1} <=> {encrypted_message2}\")\n",
    "print()\n",
    "decrypted_message_ascii = [decrypt(c, int(d), n) for c in encrypted_message1]\n",
    "decrypted_message = ''.join([chr(c) for c in decrypted_message_ascii])\n",
    "print(f\"Decrypted message: {encrypted_message2} => {decrypted_message}\")"
   ]
  },
  {
   "attachments": {},
   "cell_type": "markdown",
   "metadata": {},
   "source": [
    "-- Mã hoá và giải mã số nguyên"
   ]
  },
  {
   "cell_type": "code",
   "execution_count": 8,
   "metadata": {},
   "outputs": [
    {
     "name": "stdout",
     "output_type": "stream",
     "text": [
      "n = 17399\n",
      "phi =  17136\n",
      "e = 11\n",
      "d = 9347.0\n",
      "Public key: (11, 17399)\n",
      "Private key: (9347.0, 17399)\n",
      "\n",
      "Original message: 2001\n",
      "\n",
      "Encrypted message: 3293\n",
      "\n",
      "Decrypted message: 3293 => 2001\n"
     ]
    }
   ],
   "source": [
    "import math\n",
    " \n",
    " \n",
    "p = 127\n",
    "q = 137\n",
    " \n",
    "# Buoc 2\n",
    "n = p*q\n",
    "print(\"n =\", n)\n",
    "phi = (p-1)*(q-1)\n",
    "print(\"phi = \", phi)\n",
    "\n",
    "\n",
    "e = 7\n",
    "while(e<phi):\n",
    "    if (math.gcd(e, phi) == 1):\n",
    "        break\n",
    "    else:\n",
    "        e += 1\n",
    "print(\"e =\", e)\n",
    "\n",
    "\n",
    "k = 6\n",
    "d = ((k*phi)+1)/e\n",
    "print(\"d =\", d)\n",
    "print(f'Public key: {e, n}')\n",
    "print(f'Private key: {d, n}')\n",
    "print()\n",
    "# plain text\n",
    "msg = 2001\n",
    "print(f'Original message: {msg}')\n",
    "print()\n",
    "# Encryption\n",
    "def encrypt(m, e, n):\n",
    "    C = pow(m, e, n)\n",
    "    return C\n",
    "\n",
    "# Decryption\n",
    "def decrypt(c, d, n):\n",
    "    M = pow(c, d, n)\n",
    "    return M\n",
    "\n",
    "encrypted_message = encrypt(msg, e, n)\n",
    "print(f\"Encrypted message: {encrypted_message}\")\n",
    "print()\n",
    "decrypted_message = decrypt(encrypted_message, int(d), n)\n",
    "print(f\"Decrypted message: {encrypted_message } => {decrypted_message}\")"
   ]
  }
 ],
 "metadata": {
  "kernelspec": {
   "display_name": "Python 3",
   "language": "python",
   "name": "python3"
  },
  "language_info": {
   "codemirror_mode": {
    "name": "ipython",
    "version": 3
   },
   "file_extension": ".py",
   "mimetype": "text/x-python",
   "name": "python",
   "nbconvert_exporter": "python",
   "pygments_lexer": "ipython3",
   "version": "3.10.10"
  },
  "orig_nbformat": 4,
  "vscode": {
   "interpreter": {
    "hash": "a40f36ce072ee0920e170cdb6077f9447d8f836a9f856fa5bf6c93afd7dab476"
   }
  }
 },
 "nbformat": 4,
 "nbformat_minor": 2
}
